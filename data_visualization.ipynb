{
 "cells": [
  {
   "cell_type": "code",
   "execution_count": 1,
   "metadata": {},
   "outputs": [],
   "source": [
    "# import libraries\n",
    "import numpy as np\n",
    "import pandas as pd\n",
    "import matplotlib.pyplot as plt\n",
    "import matplotlib.cm as cm\n",
    "from plotly.offline import iplot\n",
    "import seaborn as sns\n",
    "\n",
    "from collections import Counter\n"
   ]
  },
  {
   "cell_type": "markdown",
   "metadata": {},
   "source": [
    "# 1. Data Overview"
   ]
  },
  {
   "cell_type": "code",
   "execution_count": 2,
   "metadata": {},
   "outputs": [
    {
     "data": {
      "text/html": [
       "<div>\n",
       "<style scoped>\n",
       "    .dataframe tbody tr th:only-of-type {\n",
       "        vertical-align: middle;\n",
       "    }\n",
       "\n",
       "    .dataframe tbody tr th {\n",
       "        vertical-align: top;\n",
       "    }\n",
       "\n",
       "    .dataframe thead th {\n",
       "        text-align: right;\n",
       "    }\n",
       "</style>\n",
       "<table border=\"1\" class=\"dataframe\">\n",
       "  <thead>\n",
       "    <tr style=\"text-align: right;\">\n",
       "      <th></th>\n",
       "      <th>YEAR</th>\n",
       "      <th>SEX</th>\n",
       "      <th>AGE</th>\n",
       "      <th>RACE</th>\n",
       "      <th>RACED</th>\n",
       "      <th>CITIZEN</th>\n",
       "      <th>GRADEATT</th>\n",
       "      <th>GRADEATTD</th>\n",
       "      <th>DEGFIELD</th>\n",
       "      <th>DEGFIELDD</th>\n",
       "      <th>OCC</th>\n",
       "      <th>UHRSWORK</th>\n",
       "      <th>INCWAGE</th>\n",
       "    </tr>\n",
       "  </thead>\n",
       "  <tbody>\n",
       "    <tr>\n",
       "      <th>0</th>\n",
       "      <td>2009</td>\n",
       "      <td>1</td>\n",
       "      <td>51</td>\n",
       "      <td>1</td>\n",
       "      <td>100</td>\n",
       "      <td>0</td>\n",
       "      <td>0</td>\n",
       "      <td>0</td>\n",
       "      <td>0</td>\n",
       "      <td>0</td>\n",
       "      <td>0</td>\n",
       "      <td>0</td>\n",
       "      <td>0</td>\n",
       "    </tr>\n",
       "    <tr>\n",
       "      <th>1</th>\n",
       "      <td>2009</td>\n",
       "      <td>2</td>\n",
       "      <td>64</td>\n",
       "      <td>1</td>\n",
       "      <td>100</td>\n",
       "      <td>0</td>\n",
       "      <td>0</td>\n",
       "      <td>0</td>\n",
       "      <td>0</td>\n",
       "      <td>0</td>\n",
       "      <td>5310</td>\n",
       "      <td>40</td>\n",
       "      <td>27100</td>\n",
       "    </tr>\n",
       "    <tr>\n",
       "      <th>2</th>\n",
       "      <td>2009</td>\n",
       "      <td>1</td>\n",
       "      <td>68</td>\n",
       "      <td>1</td>\n",
       "      <td>100</td>\n",
       "      <td>0</td>\n",
       "      <td>0</td>\n",
       "      <td>0</td>\n",
       "      <td>0</td>\n",
       "      <td>0</td>\n",
       "      <td>6200</td>\n",
       "      <td>40</td>\n",
       "      <td>22100</td>\n",
       "    </tr>\n",
       "    <tr>\n",
       "      <th>3</th>\n",
       "      <td>2009</td>\n",
       "      <td>2</td>\n",
       "      <td>61</td>\n",
       "      <td>2</td>\n",
       "      <td>200</td>\n",
       "      <td>0</td>\n",
       "      <td>0</td>\n",
       "      <td>0</td>\n",
       "      <td>0</td>\n",
       "      <td>0</td>\n",
       "      <td>4020</td>\n",
       "      <td>32</td>\n",
       "      <td>6000</td>\n",
       "    </tr>\n",
       "    <tr>\n",
       "      <th>4</th>\n",
       "      <td>2009</td>\n",
       "      <td>1</td>\n",
       "      <td>38</td>\n",
       "      <td>2</td>\n",
       "      <td>200</td>\n",
       "      <td>0</td>\n",
       "      <td>0</td>\n",
       "      <td>0</td>\n",
       "      <td>0</td>\n",
       "      <td>0</td>\n",
       "      <td>5350</td>\n",
       "      <td>40</td>\n",
       "      <td>14000</td>\n",
       "    </tr>\n",
       "    <tr>\n",
       "      <th>...</th>\n",
       "      <td>...</td>\n",
       "      <td>...</td>\n",
       "      <td>...</td>\n",
       "      <td>...</td>\n",
       "      <td>...</td>\n",
       "      <td>...</td>\n",
       "      <td>...</td>\n",
       "      <td>...</td>\n",
       "      <td>...</td>\n",
       "      <td>...</td>\n",
       "      <td>...</td>\n",
       "      <td>...</td>\n",
       "      <td>...</td>\n",
       "    </tr>\n",
       "    <tr>\n",
       "      <th>31290938</th>\n",
       "      <td>2018</td>\n",
       "      <td>2</td>\n",
       "      <td>9</td>\n",
       "      <td>1</td>\n",
       "      <td>100</td>\n",
       "      <td>0</td>\n",
       "      <td>3</td>\n",
       "      <td>33</td>\n",
       "      <td>0</td>\n",
       "      <td>0</td>\n",
       "      <td>0</td>\n",
       "      <td>0</td>\n",
       "      <td>999999</td>\n",
       "    </tr>\n",
       "    <tr>\n",
       "      <th>31290939</th>\n",
       "      <td>2018</td>\n",
       "      <td>2</td>\n",
       "      <td>7</td>\n",
       "      <td>1</td>\n",
       "      <td>100</td>\n",
       "      <td>0</td>\n",
       "      <td>3</td>\n",
       "      <td>31</td>\n",
       "      <td>0</td>\n",
       "      <td>0</td>\n",
       "      <td>0</td>\n",
       "      <td>0</td>\n",
       "      <td>999999</td>\n",
       "    </tr>\n",
       "    <tr>\n",
       "      <th>31290940</th>\n",
       "      <td>2018</td>\n",
       "      <td>2</td>\n",
       "      <td>49</td>\n",
       "      <td>1</td>\n",
       "      <td>100</td>\n",
       "      <td>0</td>\n",
       "      <td>0</td>\n",
       "      <td>0</td>\n",
       "      <td>0</td>\n",
       "      <td>0</td>\n",
       "      <td>3603</td>\n",
       "      <td>40</td>\n",
       "      <td>18500</td>\n",
       "    </tr>\n",
       "    <tr>\n",
       "      <th>31290941</th>\n",
       "      <td>2018</td>\n",
       "      <td>2</td>\n",
       "      <td>19</td>\n",
       "      <td>1</td>\n",
       "      <td>100</td>\n",
       "      <td>0</td>\n",
       "      <td>0</td>\n",
       "      <td>0</td>\n",
       "      <td>0</td>\n",
       "      <td>0</td>\n",
       "      <td>4255</td>\n",
       "      <td>40</td>\n",
       "      <td>11500</td>\n",
       "    </tr>\n",
       "    <tr>\n",
       "      <th>31290942</th>\n",
       "      <td>2018</td>\n",
       "      <td>1</td>\n",
       "      <td>71</td>\n",
       "      <td>1</td>\n",
       "      <td>100</td>\n",
       "      <td>0</td>\n",
       "      <td>0</td>\n",
       "      <td>0</td>\n",
       "      <td>0</td>\n",
       "      <td>0</td>\n",
       "      <td>0</td>\n",
       "      <td>0</td>\n",
       "      <td>0</td>\n",
       "    </tr>\n",
       "  </tbody>\n",
       "</table>\n",
       "<p>31290943 rows × 13 columns</p>\n",
       "</div>"
      ],
      "text/plain": [
       "          YEAR  SEX  AGE  RACE  RACED  CITIZEN  GRADEATT  GRADEATTD  DEGFIELD  \\\n",
       "0         2009    1   51     1    100        0         0          0         0   \n",
       "1         2009    2   64     1    100        0         0          0         0   \n",
       "2         2009    1   68     1    100        0         0          0         0   \n",
       "3         2009    2   61     2    200        0         0          0         0   \n",
       "4         2009    1   38     2    200        0         0          0         0   \n",
       "...        ...  ...  ...   ...    ...      ...       ...        ...       ...   \n",
       "31290938  2018    2    9     1    100        0         3         33         0   \n",
       "31290939  2018    2    7     1    100        0         3         31         0   \n",
       "31290940  2018    2   49     1    100        0         0          0         0   \n",
       "31290941  2018    2   19     1    100        0         0          0         0   \n",
       "31290942  2018    1   71     1    100        0         0          0         0   \n",
       "\n",
       "          DEGFIELDD   OCC  UHRSWORK  INCWAGE  \n",
       "0                 0     0         0        0  \n",
       "1                 0  5310        40    27100  \n",
       "2                 0  6200        40    22100  \n",
       "3                 0  4020        32     6000  \n",
       "4                 0  5350        40    14000  \n",
       "...             ...   ...       ...      ...  \n",
       "31290938          0     0         0   999999  \n",
       "31290939          0     0         0   999999  \n",
       "31290940          0  3603        40    18500  \n",
       "31290941          0  4255        40    11500  \n",
       "31290942          0     0         0        0  \n",
       "\n",
       "[31290943 rows x 13 columns]"
      ]
     },
     "execution_count": 2,
     "metadata": {},
     "output_type": "execute_result"
    }
   ],
   "source": [
    "# load data\n",
    "df = pd.read_csv('data/usa_01.csv')\n",
    "df"
   ]
  },
  {
   "cell_type": "code",
   "execution_count": 3,
   "metadata": {},
   "outputs": [
    {
     "data": {
      "text/html": [
       "<div>\n",
       "<style scoped>\n",
       "    .dataframe tbody tr th:only-of-type {\n",
       "        vertical-align: middle;\n",
       "    }\n",
       "\n",
       "    .dataframe tbody tr th {\n",
       "        vertical-align: top;\n",
       "    }\n",
       "\n",
       "    .dataframe thead th {\n",
       "        text-align: right;\n",
       "    }\n",
       "</style>\n",
       "<table border=\"1\" class=\"dataframe\">\n",
       "  <thead>\n",
       "    <tr style=\"text-align: right;\">\n",
       "      <th></th>\n",
       "      <th>YEAR</th>\n",
       "      <th>SEX</th>\n",
       "      <th>AGE</th>\n",
       "      <th>RACE</th>\n",
       "      <th>CITIZEN</th>\n",
       "      <th>DEGFIELD</th>\n",
       "      <th>OCC</th>\n",
       "      <th>UHRSWORK</th>\n",
       "      <th>INCWAGE</th>\n",
       "    </tr>\n",
       "  </thead>\n",
       "  <tbody>\n",
       "    <tr>\n",
       "      <th>0</th>\n",
       "      <td>2009</td>\n",
       "      <td>1</td>\n",
       "      <td>51</td>\n",
       "      <td>1</td>\n",
       "      <td>0</td>\n",
       "      <td>0</td>\n",
       "      <td>0</td>\n",
       "      <td>0</td>\n",
       "      <td>0</td>\n",
       "    </tr>\n",
       "    <tr>\n",
       "      <th>1</th>\n",
       "      <td>2009</td>\n",
       "      <td>2</td>\n",
       "      <td>64</td>\n",
       "      <td>1</td>\n",
       "      <td>0</td>\n",
       "      <td>0</td>\n",
       "      <td>5310</td>\n",
       "      <td>40</td>\n",
       "      <td>27100</td>\n",
       "    </tr>\n",
       "    <tr>\n",
       "      <th>2</th>\n",
       "      <td>2009</td>\n",
       "      <td>1</td>\n",
       "      <td>68</td>\n",
       "      <td>1</td>\n",
       "      <td>0</td>\n",
       "      <td>0</td>\n",
       "      <td>6200</td>\n",
       "      <td>40</td>\n",
       "      <td>22100</td>\n",
       "    </tr>\n",
       "    <tr>\n",
       "      <th>3</th>\n",
       "      <td>2009</td>\n",
       "      <td>2</td>\n",
       "      <td>61</td>\n",
       "      <td>2</td>\n",
       "      <td>0</td>\n",
       "      <td>0</td>\n",
       "      <td>4020</td>\n",
       "      <td>32</td>\n",
       "      <td>6000</td>\n",
       "    </tr>\n",
       "    <tr>\n",
       "      <th>4</th>\n",
       "      <td>2009</td>\n",
       "      <td>1</td>\n",
       "      <td>38</td>\n",
       "      <td>2</td>\n",
       "      <td>0</td>\n",
       "      <td>0</td>\n",
       "      <td>5350</td>\n",
       "      <td>40</td>\n",
       "      <td>14000</td>\n",
       "    </tr>\n",
       "    <tr>\n",
       "      <th>...</th>\n",
       "      <td>...</td>\n",
       "      <td>...</td>\n",
       "      <td>...</td>\n",
       "      <td>...</td>\n",
       "      <td>...</td>\n",
       "      <td>...</td>\n",
       "      <td>...</td>\n",
       "      <td>...</td>\n",
       "      <td>...</td>\n",
       "    </tr>\n",
       "    <tr>\n",
       "      <th>31290938</th>\n",
       "      <td>2018</td>\n",
       "      <td>2</td>\n",
       "      <td>9</td>\n",
       "      <td>1</td>\n",
       "      <td>0</td>\n",
       "      <td>0</td>\n",
       "      <td>0</td>\n",
       "      <td>0</td>\n",
       "      <td>999999</td>\n",
       "    </tr>\n",
       "    <tr>\n",
       "      <th>31290939</th>\n",
       "      <td>2018</td>\n",
       "      <td>2</td>\n",
       "      <td>7</td>\n",
       "      <td>1</td>\n",
       "      <td>0</td>\n",
       "      <td>0</td>\n",
       "      <td>0</td>\n",
       "      <td>0</td>\n",
       "      <td>999999</td>\n",
       "    </tr>\n",
       "    <tr>\n",
       "      <th>31290940</th>\n",
       "      <td>2018</td>\n",
       "      <td>2</td>\n",
       "      <td>49</td>\n",
       "      <td>1</td>\n",
       "      <td>0</td>\n",
       "      <td>0</td>\n",
       "      <td>3603</td>\n",
       "      <td>40</td>\n",
       "      <td>18500</td>\n",
       "    </tr>\n",
       "    <tr>\n",
       "      <th>31290941</th>\n",
       "      <td>2018</td>\n",
       "      <td>2</td>\n",
       "      <td>19</td>\n",
       "      <td>1</td>\n",
       "      <td>0</td>\n",
       "      <td>0</td>\n",
       "      <td>4255</td>\n",
       "      <td>40</td>\n",
       "      <td>11500</td>\n",
       "    </tr>\n",
       "    <tr>\n",
       "      <th>31290942</th>\n",
       "      <td>2018</td>\n",
       "      <td>1</td>\n",
       "      <td>71</td>\n",
       "      <td>1</td>\n",
       "      <td>0</td>\n",
       "      <td>0</td>\n",
       "      <td>0</td>\n",
       "      <td>0</td>\n",
       "      <td>0</td>\n",
       "    </tr>\n",
       "  </tbody>\n",
       "</table>\n",
       "<p>31290943 rows × 9 columns</p>\n",
       "</div>"
      ],
      "text/plain": [
       "          YEAR  SEX  AGE  RACE  CITIZEN  DEGFIELD   OCC  UHRSWORK  INCWAGE\n",
       "0         2009    1   51     1        0         0     0         0        0\n",
       "1         2009    2   64     1        0         0  5310        40    27100\n",
       "2         2009    1   68     1        0         0  6200        40    22100\n",
       "3         2009    2   61     2        0         0  4020        32     6000\n",
       "4         2009    1   38     2        0         0  5350        40    14000\n",
       "...        ...  ...  ...   ...      ...       ...   ...       ...      ...\n",
       "31290938  2018    2    9     1        0         0     0         0   999999\n",
       "31290939  2018    2    7     1        0         0     0         0   999999\n",
       "31290940  2018    2   49     1        0         0  3603        40    18500\n",
       "31290941  2018    2   19     1        0         0  4255        40    11500\n",
       "31290942  2018    1   71     1        0         0     0         0        0\n",
       "\n",
       "[31290943 rows x 9 columns]"
      ]
     },
     "execution_count": 3,
     "metadata": {},
     "output_type": "execute_result"
    }
   ],
   "source": [
    "df = df.drop(columns=['RACED', 'GRADEATTD', 'DEGFIELDD', 'GRADEATT'])\n",
    "df"
   ]
  },
  {
   "cell_type": "code",
   "execution_count": 4,
   "metadata": {},
   "outputs": [
    {
     "name": "stdout",
     "output_type": "stream",
     "text": [
      "<class 'pandas.core.frame.DataFrame'>\n",
      "RangeIndex: 31290943 entries, 0 to 31290942\n",
      "Data columns (total 9 columns):\n",
      " #   Column    Dtype\n",
      "---  ------    -----\n",
      " 0   YEAR      int64\n",
      " 1   SEX       int64\n",
      " 2   AGE       int64\n",
      " 3   RACE      int64\n",
      " 4   CITIZEN   int64\n",
      " 5   DEGFIELD  int64\n",
      " 6   OCC       int64\n",
      " 7   UHRSWORK  int64\n",
      " 8   INCWAGE   int64\n",
      "dtypes: int64(9)\n",
      "memory usage: 2.1 GB\n"
     ]
    }
   ],
   "source": [
    "df.info()"
   ]
  },
  {
   "cell_type": "code",
   "execution_count": 5,
   "metadata": {},
   "outputs": [
    {
     "data": {
      "text/plain": [
       "YEAR        0\n",
       "SEX         0\n",
       "AGE         0\n",
       "RACE        0\n",
       "CITIZEN     0\n",
       "DEGFIELD    0\n",
       "OCC         0\n",
       "UHRSWORK    0\n",
       "INCWAGE     0\n",
       "dtype: int64"
      ]
     },
     "execution_count": 5,
     "metadata": {},
     "output_type": "execute_result"
    }
   ],
   "source": [
    "df.isnull().sum(axis = 0)"
   ]
  },
  {
   "cell_type": "markdown",
   "metadata": {},
   "source": [
    "## Data  Copy"
   ]
  },
  {
   "cell_type": "code",
   "execution_count": 6,
   "metadata": {},
   "outputs": [],
   "source": [
    "import copy\n",
    "df_origin = copy.deepcopy(df)"
   ]
  },
  {
   "cell_type": "code",
   "execution_count": 7,
   "metadata": {},
   "outputs": [],
   "source": [
    "import copy\n",
    "df = copy.deepcopy(df_origin)"
   ]
  },
  {
   "cell_type": "markdown",
   "metadata": {},
   "source": [
    "# 2. Data Preprocessing"
   ]
  },
  {
   "cell_type": "markdown",
   "metadata": {},
   "source": [
    "## 2.1 Decipher Preparation"
   ]
  },
  {
   "cell_type": "markdown",
   "metadata": {},
   "source": [
    "### 2.1.1 Major-DEGFIELD"
   ]
  },
  {
   "cell_type": "code",
   "execution_count": 8,
   "metadata": {},
   "outputs": [
    {
     "data": {
      "text/html": [
       "<div>\n",
       "<style scoped>\n",
       "    .dataframe tbody tr th:only-of-type {\n",
       "        vertical-align: middle;\n",
       "    }\n",
       "\n",
       "    .dataframe tbody tr th {\n",
       "        vertical-align: top;\n",
       "    }\n",
       "\n",
       "    .dataframe thead th {\n",
       "        text-align: right;\n",
       "    }\n",
       "</style>\n",
       "<table border=\"1\" class=\"dataframe\">\n",
       "  <thead>\n",
       "    <tr style=\"text-align: right;\">\n",
       "      <th></th>\n",
       "      <th>Percent</th>\n",
       "      <th>N</th>\n",
       "      <th>Value</th>\n",
       "      <th>Label</th>\n",
       "      <th>STEM</th>\n",
       "    </tr>\n",
       "  </thead>\n",
       "  <tbody>\n",
       "    <tr>\n",
       "      <th>0</th>\n",
       "      <td>77.8</td>\n",
       "      <td>24,349,205</td>\n",
       "      <td>0</td>\n",
       "      <td>NaN</td>\n",
       "      <td>0</td>\n",
       "    </tr>\n",
       "    <tr>\n",
       "      <th>1</th>\n",
       "      <td>0.3</td>\n",
       "      <td>84,110</td>\n",
       "      <td>11</td>\n",
       "      <td>Agriculture</td>\n",
       "      <td>0</td>\n",
       "    </tr>\n",
       "    <tr>\n",
       "      <th>2</th>\n",
       "      <td>0.1</td>\n",
       "      <td>45,157</td>\n",
       "      <td>13</td>\n",
       "      <td>Environment and Natural Resources</td>\n",
       "      <td>0</td>\n",
       "    </tr>\n",
       "    <tr>\n",
       "      <th>3</th>\n",
       "      <td>0.2</td>\n",
       "      <td>48,911</td>\n",
       "      <td>14</td>\n",
       "      <td>Architecture</td>\n",
       "      <td>1</td>\n",
       "    </tr>\n",
       "    <tr>\n",
       "      <th>4</th>\n",
       "      <td>0.1</td>\n",
       "      <td>22,055</td>\n",
       "      <td>15</td>\n",
       "      <td>Area, Ethnic, and Civilization Studies</td>\n",
       "      <td>0</td>\n",
       "    </tr>\n",
       "  </tbody>\n",
       "</table>\n",
       "</div>"
      ],
      "text/plain": [
       "   Percent           N  Value                                   Label  STEM\n",
       "0     77.8  24,349,205      0                                     NaN     0\n",
       "1      0.3      84,110     11                             Agriculture     0\n",
       "2      0.1      45,157     13       Environment and Natural Resources     0\n",
       "3      0.2      48,911     14                            Architecture     1\n",
       "4      0.1      22,055     15  Area, Ethnic, and Civilization Studies     0"
      ]
     },
     "execution_count": 8,
     "metadata": {},
     "output_type": "execute_result"
    }
   ],
   "source": [
    "df_major = pd.read_csv('src/major.csv')\n",
    "df_major.head()"
   ]
  },
  {
   "cell_type": "code",
   "execution_count": 9,
   "metadata": {},
   "outputs": [
    {
     "data": {
      "text/plain": [
       "[14, 20, 21, 24, 25, 29, 34, 35, 36, 37, 50, 51, 55, 57, 59, 61]"
      ]
     },
     "execution_count": 9,
     "metadata": {},
     "output_type": "execute_result"
    }
   ],
   "source": [
    "stem_values = list(Counter(df_major[df_major['STEM']==1]['Value']).keys())\n",
    "stem_values"
   ]
  },
  {
   "cell_type": "markdown",
   "metadata": {},
   "source": [
    "### 2.1.2 Occupation-OCC"
   ]
  },
  {
   "cell_type": "markdown",
   "metadata": {},
   "source": [
    "## 2.2 Code Interpretation"
   ]
  },
  {
   "cell_type": "code",
   "execution_count": 10,
   "metadata": {},
   "outputs": [
    {
     "data": {
      "text/html": [
       "<div>\n",
       "<style scoped>\n",
       "    .dataframe tbody tr th:only-of-type {\n",
       "        vertical-align: middle;\n",
       "    }\n",
       "\n",
       "    .dataframe tbody tr th {\n",
       "        vertical-align: top;\n",
       "    }\n",
       "\n",
       "    .dataframe thead th {\n",
       "        text-align: right;\n",
       "    }\n",
       "</style>\n",
       "<table border=\"1\" class=\"dataframe\">\n",
       "  <thead>\n",
       "    <tr style=\"text-align: right;\">\n",
       "      <th></th>\n",
       "      <th>YEAR</th>\n",
       "      <th>SEX</th>\n",
       "      <th>AGE</th>\n",
       "      <th>RACE</th>\n",
       "      <th>CITIZEN</th>\n",
       "      <th>DEGFIELD</th>\n",
       "      <th>OCC</th>\n",
       "      <th>UHRSWORK</th>\n",
       "      <th>INCWAGE</th>\n",
       "    </tr>\n",
       "  </thead>\n",
       "  <tbody>\n",
       "    <tr>\n",
       "      <th>0</th>\n",
       "      <td>2009</td>\n",
       "      <td>Male</td>\n",
       "      <td>51</td>\n",
       "      <td>1</td>\n",
       "      <td>NaN</td>\n",
       "      <td>NaN</td>\n",
       "      <td>NaN</td>\n",
       "      <td>NaN</td>\n",
       "      <td>NaN</td>\n",
       "    </tr>\n",
       "    <tr>\n",
       "      <th>1</th>\n",
       "      <td>2009</td>\n",
       "      <td>Femal</td>\n",
       "      <td>64</td>\n",
       "      <td>1</td>\n",
       "      <td>NaN</td>\n",
       "      <td>NaN</td>\n",
       "      <td>Non-STEM</td>\n",
       "      <td>=40</td>\n",
       "      <td>27100.0</td>\n",
       "    </tr>\n",
       "    <tr>\n",
       "      <th>2</th>\n",
       "      <td>2009</td>\n",
       "      <td>Male</td>\n",
       "      <td>68</td>\n",
       "      <td>1</td>\n",
       "      <td>NaN</td>\n",
       "      <td>NaN</td>\n",
       "      <td>Non-STEM</td>\n",
       "      <td>=40</td>\n",
       "      <td>22100.0</td>\n",
       "    </tr>\n",
       "    <tr>\n",
       "      <th>3</th>\n",
       "      <td>2009</td>\n",
       "      <td>Femal</td>\n",
       "      <td>61</td>\n",
       "      <td>2</td>\n",
       "      <td>NaN</td>\n",
       "      <td>NaN</td>\n",
       "      <td>Non-STEM</td>\n",
       "      <td>&lt;40</td>\n",
       "      <td>6000.0</td>\n",
       "    </tr>\n",
       "    <tr>\n",
       "      <th>4</th>\n",
       "      <td>2009</td>\n",
       "      <td>Male</td>\n",
       "      <td>38</td>\n",
       "      <td>2</td>\n",
       "      <td>NaN</td>\n",
       "      <td>NaN</td>\n",
       "      <td>Non-STEM</td>\n",
       "      <td>=40</td>\n",
       "      <td>14000.0</td>\n",
       "    </tr>\n",
       "    <tr>\n",
       "      <th>...</th>\n",
       "      <td>...</td>\n",
       "      <td>...</td>\n",
       "      <td>...</td>\n",
       "      <td>...</td>\n",
       "      <td>...</td>\n",
       "      <td>...</td>\n",
       "      <td>...</td>\n",
       "      <td>...</td>\n",
       "      <td>...</td>\n",
       "    </tr>\n",
       "    <tr>\n",
       "      <th>31290938</th>\n",
       "      <td>2018</td>\n",
       "      <td>Femal</td>\n",
       "      <td>9</td>\n",
       "      <td>1</td>\n",
       "      <td>NaN</td>\n",
       "      <td>NaN</td>\n",
       "      <td>NaN</td>\n",
       "      <td>NaN</td>\n",
       "      <td>999999.0</td>\n",
       "    </tr>\n",
       "    <tr>\n",
       "      <th>31290939</th>\n",
       "      <td>2018</td>\n",
       "      <td>Femal</td>\n",
       "      <td>7</td>\n",
       "      <td>1</td>\n",
       "      <td>NaN</td>\n",
       "      <td>NaN</td>\n",
       "      <td>NaN</td>\n",
       "      <td>NaN</td>\n",
       "      <td>999999.0</td>\n",
       "    </tr>\n",
       "    <tr>\n",
       "      <th>31290940</th>\n",
       "      <td>2018</td>\n",
       "      <td>Femal</td>\n",
       "      <td>49</td>\n",
       "      <td>1</td>\n",
       "      <td>NaN</td>\n",
       "      <td>NaN</td>\n",
       "      <td>Non-STEM</td>\n",
       "      <td>=40</td>\n",
       "      <td>18500.0</td>\n",
       "    </tr>\n",
       "    <tr>\n",
       "      <th>31290941</th>\n",
       "      <td>2018</td>\n",
       "      <td>Femal</td>\n",
       "      <td>19</td>\n",
       "      <td>1</td>\n",
       "      <td>NaN</td>\n",
       "      <td>NaN</td>\n",
       "      <td>Non-STEM</td>\n",
       "      <td>=40</td>\n",
       "      <td>11500.0</td>\n",
       "    </tr>\n",
       "    <tr>\n",
       "      <th>31290942</th>\n",
       "      <td>2018</td>\n",
       "      <td>Male</td>\n",
       "      <td>71</td>\n",
       "      <td>1</td>\n",
       "      <td>NaN</td>\n",
       "      <td>NaN</td>\n",
       "      <td>NaN</td>\n",
       "      <td>NaN</td>\n",
       "      <td>NaN</td>\n",
       "    </tr>\n",
       "  </tbody>\n",
       "</table>\n",
       "<p>31290943 rows × 9 columns</p>\n",
       "</div>"
      ],
      "text/plain": [
       "          YEAR    SEX  AGE  RACE  CITIZEN DEGFIELD       OCC UHRSWORK  \\\n",
       "0         2009   Male   51     1      NaN      NaN       NaN      NaN   \n",
       "1         2009  Femal   64     1      NaN      NaN  Non-STEM      =40   \n",
       "2         2009   Male   68     1      NaN      NaN  Non-STEM      =40   \n",
       "3         2009  Femal   61     2      NaN      NaN  Non-STEM      <40   \n",
       "4         2009   Male   38     2      NaN      NaN  Non-STEM      =40   \n",
       "...        ...    ...  ...   ...      ...      ...       ...      ...   \n",
       "31290938  2018  Femal    9     1      NaN      NaN       NaN      NaN   \n",
       "31290939  2018  Femal    7     1      NaN      NaN       NaN      NaN   \n",
       "31290940  2018  Femal   49     1      NaN      NaN  Non-STEM      =40   \n",
       "31290941  2018  Femal   19     1      NaN      NaN  Non-STEM      =40   \n",
       "31290942  2018   Male   71     1      NaN      NaN       NaN      NaN   \n",
       "\n",
       "           INCWAGE  \n",
       "0              NaN  \n",
       "1          27100.0  \n",
       "2          22100.0  \n",
       "3           6000.0  \n",
       "4          14000.0  \n",
       "...            ...  \n",
       "31290938  999999.0  \n",
       "31290939  999999.0  \n",
       "31290940   18500.0  \n",
       "31290941   11500.0  \n",
       "31290942       NaN  \n",
       "\n",
       "[31290943 rows x 9 columns]"
      ]
     },
     "execution_count": 10,
     "metadata": {},
     "output_type": "execute_result"
    }
   ],
   "source": [
    "# sex\n",
    "df['SEX'] = df['SEX'].apply(lambda x: 'Male' if str(x) == '1' else 'Femal')"
   ]
  },
  {
   "cell_type": "code",
   "execution_count": null,
   "metadata": {},
   "outputs": [],
   "source": [
    "# CITIZEN\n",
    "df['CITIZEN'] = df['CITIZEN'].apply(lambda x: np.nan if x == 0 else x)"
   ]
  },
  {
   "cell_type": "code",
   "execution_count": null,
   "metadata": {},
   "outputs": [],
   "source": [
    "# major\n",
    "df['DEGFIELD'] = df['DEGFIELD'].apply(lambda x: np.nan if int(x) == 0 else 'STEM' if x in stem_values else 'Non-STEM')"
   ]
  },
  {
   "cell_type": "code",
   "execution_count": null,
   "metadata": {},
   "outputs": [],
   "source": [
    "# occupation\n",
    "df['OCC'] = df['OCC'].apply(lambda x: np.nan if x == 0 else 'STEM' if x in range(1000, 2000) else 'Non-STEM')"
   ]
  },
  {
   "cell_type": "code",
   "execution_count": null,
   "metadata": {},
   "outputs": [],
   "source": [
    "# usual work hours per week\n",
    "df['UHRSWORK'] = df['UHRSWORK'].apply(lambda x: np.nan if int(x) == 0 else '<40' if int(x) < 40 else '=40' if int(x) == 40 else '>40')"
   ]
  },
  {
   "cell_type": "code",
   "execution_count": null,
   "metadata": {},
   "outputs": [],
   "source": [
    "# income of wage and salary\n",
    "df['INCWAGE'] = df['INCWAGE'].apply(lambda x: np.nan if x == 0 else x)"
   ]
  },
  {
   "cell_type": "code",
   "execution_count": null,
   "metadata": {},
   "outputs": [],
   "source": [
    "df"
   ]
  },
  {
   "cell_type": "markdown",
   "metadata": {},
   "source": [
    "## 2.? Drop nan values"
   ]
  },
  {
   "cell_type": "code",
   "execution_count": 11,
   "metadata": {},
   "outputs": [
    {
     "name": "stdout",
     "output_type": "stream",
     "text": [
      "<class 'pandas.core.frame.DataFrame'>\n",
      "Int64Index: 782048 entries, 75 to 31290900\n",
      "Data columns (total 9 columns):\n",
      " #   Column    Non-Null Count   Dtype  \n",
      "---  ------    --------------   -----  \n",
      " 0   YEAR      782048 non-null  int64  \n",
      " 1   SEX       782048 non-null  object \n",
      " 2   AGE       782048 non-null  int64  \n",
      " 3   RACE      782048 non-null  int64  \n",
      " 4   CITIZEN   782048 non-null  float64\n",
      " 5   DEGFIELD  782048 non-null  object \n",
      " 6   OCC       782048 non-null  object \n",
      " 7   UHRSWORK  782048 non-null  object \n",
      " 8   INCWAGE   782048 non-null  float64\n",
      "dtypes: float64(2), int64(3), object(4)\n",
      "memory usage: 59.7+ MB\n"
     ]
    }
   ],
   "source": [
    "df = df.dropna()\n",
    "df.info()"
   ]
  },
  {
   "cell_type": "markdown",
   "metadata": {},
   "source": [
    "# 3. Data Visualization"
   ]
  },
  {
   "cell_type": "code",
   "execution_count": 12,
   "metadata": {},
   "outputs": [
    {
     "data": {
      "image/png": "[encoded data removed]",
      "text/plain": [
       "<Figure size 432x288 with 1 Axes>"
      ]
     },
     "metadata": {
      "needs_background": "light"
     },
     "output_type": "display_data"
    }
   ],
   "source": [
    "import numpy as np\n",
    "import matplotlib.pyplot as plt\n",
    "import matplotlib.pylab as pl\n",
    "import matplotlib.ticker as tick\n",
    "\n",
    "# Auto adjust unit of y Axis\n",
    "def y_fmt(tick_val, pos):\n",
    "    if tick_val >= 1000000:\n",
    "        val = int(tick_val)/1000000\n",
    "        return '{:.1f} M'.format(val)\n",
    "    elif tick_val >= 1000:\n",
    "        val = int(tick_val) / 1000\n",
    "        return '{:.1f} K'.format(val)\n",
    "    else:\n",
    "        return tick_val\n",
    "\n",
    "# plt.figure(figsize=[60,30])\n",
    "ax = sns.countplot(x='YEAR', data=df, palette=\"Blues_d\")\n",
    "ax = pl.gca()\n",
    "ax.yaxis.set_major_formatter(tick.FuncFormatter(y_fmt))\n",
    "ax.set_ylabel('Population')\n",
    "ax.set_xlabel(\"Year\")\n",
    "ax.axes.set_title(\"Population of Sample for Each Year\")\n",
    "# ax.tick_params(labelsize=40)\n",
    "# plt.xticks(rotation=45)\n",
    "plt.show()"
   ]
  },
  {
   "cell_type": "markdown",
   "metadata": {},
   "source": [
    "### Sex VS Year"
   ]
  },
  {
   "cell_type": "code",
   "execution_count": 13,
   "metadata": {},
   "outputs": [
    {
     "data": {
      "image/png": "[encoded data removed]",
      "text/plain": [
       "<Figure size 432x288 with 1 Axes>"
      ]
     },
     "metadata": {
      "needs_background": "light"
     },
     "output_type": "display_data"
    }
   ],
   "source": [
    "import numpy as np\n",
    "import matplotlib.pyplot as plt\n",
    "import matplotlib.pylab as pl\n",
    "import matplotlib.ticker as tick\n",
    "\n",
    "# Auto adjust unit of y Axis\n",
    "def y_fmt(tick_val, pos):\n",
    "    if tick_val >= 1000000:\n",
    "        val = int(tick_val)/1000000\n",
    "        return '{:.1f} M'.format(val)\n",
    "    elif tick_val >= 1000:\n",
    "        val = int(tick_val) / 1000\n",
    "        return '{:.1f} K'.format(val)\n",
    "    else:\n",
    "        return tick_val\n",
    "\n",
    "# plt.figure(figsize=[60,30])\n",
    "ax = sns.countplot(x='YEAR', hue='SEX', data=df)\n",
    "ax = pl.gca()\n",
    "ax.yaxis.set_major_formatter(tick.FuncFormatter(y_fmt))\n",
    "ax.set_ylabel('Population')\n",
    "ax.set_xlabel('Year')\n",
    "ax.axes.set_title('SEX Comparison for Each Year')\n",
    "# ax.tick_params(labelsize=40)\n",
    "# plt.xticks(rotation=45)\n",
    "plt.show()"
   ]
  },
  {
   "cell_type": "markdown",
   "metadata": {},
   "source": [
    "### Major VS SEX "
   ]
  },
  {
   "cell_type": "code",
   "execution_count": 14,
   "metadata": {},
   "outputs": [
    {
     "data": {
      "image/png": "[encoded data removed]",
      "text/plain": [
       "<Figure size 432x288 with 1 Axes>"
      ]
     },
     "metadata": {
      "needs_background": "light"
     },
     "output_type": "display_data"
    }
   ],
   "source": [
    "import numpy as np\n",
    "import matplotlib.pyplot as plt\n",
    "import matplotlib.pylab as pl\n",
    "import matplotlib.ticker as tick\n",
    "\n",
    "# Auto adjust unit of y Axis\n",
    "def y_fmt(tick_val, pos):\n",
    "    if tick_val >= 1000000:\n",
    "        val = int(tick_val)/1000000\n",
    "        return '{:.1f} M'.format(val)\n",
    "    elif tick_val >= 1000:\n",
    "        val = int(tick_val) / 1000\n",
    "        return '{:.1f} K'.format(val)\n",
    "    else:\n",
    "        return tick_val\n",
    "\n",
    "# plt.figure(figsize=[60,30])\n",
    "ax = sns.countplot(x='YEAR', hue='DEGFIELD', data=df)\n",
    "ax = pl.gca()\n",
    "ax.yaxis.set_major_formatter(tick.FuncFormatter(y_fmt))\n",
    "ax.set_ylabel('Population')\n",
    "ax.set_xlabel('Year')\n",
    "ax.axes.set_title('DEGFIELD Comparison for Each Year')\n",
    "# ax.tick_params(labelsize=40)\n",
    "# plt.xticks(rotation=45)\n",
    "plt.show()"
   ]
  },
  {
   "cell_type": "code",
   "execution_count": 15,
   "metadata": {},
   "outputs": [
    {
     "data": {
      "text/plain": [
       "{'Non-STEM': {2009: 55523,\n",
       "  2010: 56766,\n",
       "  2011: 55514,\n",
       "  2012: 58252,\n",
       "  2013: 61595,\n",
       "  2014: 62787,\n",
       "  2015: 65885,\n",
       "  2016: 67908,\n",
       "  2017: 72412,\n",
       "  2018: 74787},\n",
       " 'STEM': {2009: 13493,\n",
       "  2010: 13201,\n",
       "  2011: 12413,\n",
       "  2012: 13382,\n",
       "  2013: 14672,\n",
       "  2014: 14813,\n",
       "  2015: 15884,\n",
       "  2016: 16788,\n",
       "  2017: 17798,\n",
       "  2018: 18175}}"
      ]
     },
     "execution_count": 15,
     "metadata": {},
     "output_type": "execute_result"
    }
   ],
   "source": [
    "occupations = dict(Counter(df['OCC']))\n",
    "occupations_years = dict()\n",
    "for o in occupations.keys():\n",
    "    years = dict(zip(Counter(df['YEAR']).keys(), [0]*len(Counter(df['YEAR']).keys())))\n",
    "    years_new = dict(Counter(df[df['OCC']==o]['YEAR']))\n",
    "    for y in years:\n",
    "        years[y] += years_new[y]\n",
    "    occupations_years[o] = years\n",
    "occupations_years\n",
    "    "
   ]
  },
  {
   "cell_type": "code",
   "execution_count": 16,
   "metadata": {},
   "outputs": [
    {
     "data": {
      "image/png": "[encoded data removed]",
      "text/plain": [
       "<Figure size 432x288 with 1 Axes>"
      ]
     },
     "metadata": {
      "needs_background": "light"
     },
     "output_type": "display_data"
    }
   ],
   "source": [
    "import numpy as np\n",
    "import matplotlib.pyplot as plt\n",
    "import matplotlib.pylab as pl\n",
    "import matplotlib.ticker as tick\n",
    "\n",
    "# Auto adjust unit of y Axis\n",
    "def y_fmt(tick_val, pos):\n",
    "    if tick_val >= 1000000:\n",
    "        val = int(tick_val)/1000000\n",
    "        return '{:.1f} M'.format(val)\n",
    "    elif tick_val >= 1000:\n",
    "        val = int(tick_val) / 1000\n",
    "        return '{:.1f} K'.format(val)\n",
    "    else:\n",
    "        return tick_val\n",
    "\n",
    "# plt.figure(figsize=[60,30])\n",
    "ax = sns.lineplot(x=list(occupations_years['STEM'].keys()), y=list(occupations_years['STEM'].values()))\n",
    "ax = pl.gca()\n",
    "ax.yaxis.set_major_formatter(tick.FuncFormatter(y_fmt))\n",
    "ax.set_ylabel('Population')\n",
    "ax.set_xlabel('Year')\n",
    "ax.axes.set_title('Occupation Comparison for Each Year')\n",
    "# ax.tick_params(labelsize=40)\n",
    "# plt.xticks(rotation=45)\n",
    "plt.show()"
   ]
  },
  {
   "cell_type": "code",
   "execution_count": 17,
   "metadata": {},
   "outputs": [
    {
     "data": {
      "image/png": "[encoded data removed]",
      "text/plain": [
       "<Figure size 432x288 with 1 Axes>"
      ]
     },
     "metadata": {
      "needs_background": "light"
     },
     "output_type": "display_data"
    }
   ],
   "source": [
    "import numpy as np\n",
    "import matplotlib.pyplot as plt\n",
    "import matplotlib.pylab as pl\n",
    "import matplotlib.ticker as tick\n",
    "\n",
    "# Auto adjust unit of y Axis\n",
    "def y_fmt(tick_val, pos):\n",
    "    if tick_val >= 1000000:\n",
    "        val = int(tick_val)/1000000\n",
    "        return '{:.1f} M'.format(val)\n",
    "    elif tick_val >= 1000:\n",
    "        val = int(tick_val) / 1000\n",
    "        return '{:.1f} K'.format(val)\n",
    "    else:\n",
    "        return tick_val\n",
    "\n",
    "# plt.figure(figsize=[60,30])\n",
    "ax = sns.countplot(x='YEAR', hue='OCC', data=df)\n",
    "ax = pl.gca()\n",
    "ax.yaxis.set_major_formatter(tick.FuncFormatter(y_fmt))\n",
    "ax.set_ylabel('YEAR')\n",
    "ax.set_xlabel('Year')\n",
    "ax.axes.set_title('Occupation Comparison for Each Year')\n",
    "# ax.tick_params(labelsize=40)\n",
    "# plt.xticks(rotation=45)\n",
    "plt.show()"
   ]
  },
  {
   "cell_type": "code",
   "execution_count": null,
   "metadata": {},
   "outputs": [],
   "source": []
  }
 ],
 "metadata": {
  "kernelspec": {
   "display_name": "Python 3",
   "language": "python",
   "name": "python3"
  },
  "language_info": {
   "codemirror_mode": {
    "name": "ipython",
    "version": 3
   },
   "file_extension": ".py",
   "mimetype": "text/x-python",
   "name": "python",
   "nbconvert_exporter": "python",
   "pygments_lexer": "ipython3",
   "version": "3.7.6"
  }
 },
 "nbformat": 4,
 "nbformat_minor": 4
}
