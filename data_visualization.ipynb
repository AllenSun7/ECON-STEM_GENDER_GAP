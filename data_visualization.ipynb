{
 "cells": [
  {
   "cell_type": "code",
   "execution_count": 1,
   "metadata": {},
   "outputs": [],
   "source": [
    "# import libraries\n",
    "import numpy as np\n",
    "import pandas as pd\n",
    "import matplotlib.pyplot as plt\n",
    "import matplotlib.cm as cm\n",
    "from plotly.offline import iplot\n",
    "import seaborn as sns\n"
   ]
  },
  {
   "cell_type": "code",
   "execution_count": 2,
   "metadata": {},
   "outputs": [
    {
     "data": {
      "text/html": [
       "<div>\n",
       "<style scoped>\n",
       "    .dataframe tbody tr th:only-of-type {\n",
       "        vertical-align: middle;\n",
       "    }\n",
       "\n",
       "    .dataframe tbody tr th {\n",
       "        vertical-align: top;\n",
       "    }\n",
       "\n",
       "    .dataframe thead th {\n",
       "        text-align: right;\n",
       "    }\n",
       "</style>\n",
       "<table border=\"1\" class=\"dataframe\">\n",
       "  <thead>\n",
       "    <tr style=\"text-align: right;\">\n",
       "      <th></th>\n",
       "      <th>YEAR</th>\n",
       "      <th>SEX</th>\n",
       "      <th>AGE</th>\n",
       "      <th>RACE</th>\n",
       "      <th>RACED</th>\n",
       "      <th>CITIZEN</th>\n",
       "      <th>GRADEATT</th>\n",
       "      <th>GRADEATTD</th>\n",
       "      <th>DEGFIELD</th>\n",
       "      <th>DEGFIELDD</th>\n",
       "      <th>OCC</th>\n",
       "    </tr>\n",
       "  </thead>\n",
       "  <tbody>\n",
       "    <tr>\n",
       "      <th>0</th>\n",
       "      <td>2009</td>\n",
       "      <td>1</td>\n",
       "      <td>51</td>\n",
       "      <td>1</td>\n",
       "      <td>100</td>\n",
       "      <td>0</td>\n",
       "      <td>0</td>\n",
       "      <td>0</td>\n",
       "      <td>0</td>\n",
       "      <td>0</td>\n",
       "      <td>0</td>\n",
       "    </tr>\n",
       "    <tr>\n",
       "      <th>1</th>\n",
       "      <td>2009</td>\n",
       "      <td>2</td>\n",
       "      <td>64</td>\n",
       "      <td>1</td>\n",
       "      <td>100</td>\n",
       "      <td>0</td>\n",
       "      <td>0</td>\n",
       "      <td>0</td>\n",
       "      <td>0</td>\n",
       "      <td>0</td>\n",
       "      <td>5310</td>\n",
       "    </tr>\n",
       "    <tr>\n",
       "      <th>2</th>\n",
       "      <td>2009</td>\n",
       "      <td>1</td>\n",
       "      <td>68</td>\n",
       "      <td>1</td>\n",
       "      <td>100</td>\n",
       "      <td>0</td>\n",
       "      <td>0</td>\n",
       "      <td>0</td>\n",
       "      <td>0</td>\n",
       "      <td>0</td>\n",
       "      <td>6200</td>\n",
       "    </tr>\n",
       "    <tr>\n",
       "      <th>3</th>\n",
       "      <td>2009</td>\n",
       "      <td>2</td>\n",
       "      <td>61</td>\n",
       "      <td>2</td>\n",
       "      <td>200</td>\n",
       "      <td>0</td>\n",
       "      <td>0</td>\n",
       "      <td>0</td>\n",
       "      <td>0</td>\n",
       "      <td>0</td>\n",
       "      <td>4020</td>\n",
       "    </tr>\n",
       "    <tr>\n",
       "      <th>4</th>\n",
       "      <td>2009</td>\n",
       "      <td>1</td>\n",
       "      <td>38</td>\n",
       "      <td>2</td>\n",
       "      <td>200</td>\n",
       "      <td>0</td>\n",
       "      <td>0</td>\n",
       "      <td>0</td>\n",
       "      <td>0</td>\n",
       "      <td>0</td>\n",
       "      <td>5350</td>\n",
       "    </tr>\n",
       "    <tr>\n",
       "      <th>...</th>\n",
       "      <td>...</td>\n",
       "      <td>...</td>\n",
       "      <td>...</td>\n",
       "      <td>...</td>\n",
       "      <td>...</td>\n",
       "      <td>...</td>\n",
       "      <td>...</td>\n",
       "      <td>...</td>\n",
       "      <td>...</td>\n",
       "      <td>...</td>\n",
       "      <td>...</td>\n",
       "    </tr>\n",
       "    <tr>\n",
       "      <th>31290938</th>\n",
       "      <td>2018</td>\n",
       "      <td>2</td>\n",
       "      <td>9</td>\n",
       "      <td>1</td>\n",
       "      <td>100</td>\n",
       "      <td>0</td>\n",
       "      <td>3</td>\n",
       "      <td>33</td>\n",
       "      <td>0</td>\n",
       "      <td>0</td>\n",
       "      <td>0</td>\n",
       "    </tr>\n",
       "    <tr>\n",
       "      <th>31290939</th>\n",
       "      <td>2018</td>\n",
       "      <td>2</td>\n",
       "      <td>7</td>\n",
       "      <td>1</td>\n",
       "      <td>100</td>\n",
       "      <td>0</td>\n",
       "      <td>3</td>\n",
       "      <td>31</td>\n",
       "      <td>0</td>\n",
       "      <td>0</td>\n",
       "      <td>0</td>\n",
       "    </tr>\n",
       "    <tr>\n",
       "      <th>31290940</th>\n",
       "      <td>2018</td>\n",
       "      <td>2</td>\n",
       "      <td>49</td>\n",
       "      <td>1</td>\n",
       "      <td>100</td>\n",
       "      <td>0</td>\n",
       "      <td>0</td>\n",
       "      <td>0</td>\n",
       "      <td>0</td>\n",
       "      <td>0</td>\n",
       "      <td>3603</td>\n",
       "    </tr>\n",
       "    <tr>\n",
       "      <th>31290941</th>\n",
       "      <td>2018</td>\n",
       "      <td>2</td>\n",
       "      <td>19</td>\n",
       "      <td>1</td>\n",
       "      <td>100</td>\n",
       "      <td>0</td>\n",
       "      <td>0</td>\n",
       "      <td>0</td>\n",
       "      <td>0</td>\n",
       "      <td>0</td>\n",
       "      <td>4255</td>\n",
       "    </tr>\n",
       "    <tr>\n",
       "      <th>31290942</th>\n",
       "      <td>2018</td>\n",
       "      <td>1</td>\n",
       "      <td>71</td>\n",
       "      <td>1</td>\n",
       "      <td>100</td>\n",
       "      <td>0</td>\n",
       "      <td>0</td>\n",
       "      <td>0</td>\n",
       "      <td>0</td>\n",
       "      <td>0</td>\n",
       "      <td>0</td>\n",
       "    </tr>\n",
       "  </tbody>\n",
       "</table>\n",
       "<p>31290943 rows × 11 columns</p>\n",
       "</div>"
      ],
      "text/plain": [
       "          YEAR  SEX  AGE  RACE  RACED  CITIZEN  GRADEATT  GRADEATTD  DEGFIELD  \\\n",
       "0         2009    1   51     1    100        0         0          0         0   \n",
       "1         2009    2   64     1    100        0         0          0         0   \n",
       "2         2009    1   68     1    100        0         0          0         0   \n",
       "3         2009    2   61     2    200        0         0          0         0   \n",
       "4         2009    1   38     2    200        0         0          0         0   \n",
       "...        ...  ...  ...   ...    ...      ...       ...        ...       ...   \n",
       "31290938  2018    2    9     1    100        0         3         33         0   \n",
       "31290939  2018    2    7     1    100        0         3         31         0   \n",
       "31290940  2018    2   49     1    100        0         0          0         0   \n",
       "31290941  2018    2   19     1    100        0         0          0         0   \n",
       "31290942  2018    1   71     1    100        0         0          0         0   \n",
       "\n",
       "          DEGFIELDD   OCC  \n",
       "0                 0     0  \n",
       "1                 0  5310  \n",
       "2                 0  6200  \n",
       "3                 0  4020  \n",
       "4                 0  5350  \n",
       "...             ...   ...  \n",
       "31290938          0     0  \n",
       "31290939          0     0  \n",
       "31290940          0  3603  \n",
       "31290941          0  4255  \n",
       "31290942          0     0  \n",
       "\n",
       "[31290943 rows x 11 columns]"
      ]
     },
     "execution_count": 2,
     "metadata": {},
     "output_type": "execute_result"
    }
   ],
   "source": [
    "# load data\n",
    "df = pd.read_csv('data/usa_01.csv')\n",
    "df"
   ]
  },
  {
   "cell_type": "code",
   "execution_count": 16,
   "metadata": {},
   "outputs": [
    {
     "data": {
      "text/html": [
       "<div>\n",
       "<style scoped>\n",
       "    .dataframe tbody tr th:only-of-type {\n",
       "        vertical-align: middle;\n",
       "    }\n",
       "\n",
       "    .dataframe tbody tr th {\n",
       "        vertical-align: top;\n",
       "    }\n",
       "\n",
       "    .dataframe thead th {\n",
       "        text-align: right;\n",
       "    }\n",
       "</style>\n",
       "<table border=\"1\" class=\"dataframe\">\n",
       "  <thead>\n",
       "    <tr style=\"text-align: right;\">\n",
       "      <th></th>\n",
       "      <th>YEAR</th>\n",
       "      <th>AGE</th>\n",
       "      <th>RACE</th>\n",
       "      <th>RACED</th>\n",
       "      <th>CITIZEN</th>\n",
       "      <th>GRADEATT</th>\n",
       "      <th>GRADEATTD</th>\n",
       "      <th>DEGFIELD</th>\n",
       "      <th>DEGFIELDD</th>\n",
       "    </tr>\n",
       "  </thead>\n",
       "  <tbody>\n",
       "    <tr>\n",
       "      <th>count</th>\n",
       "      <td>3.129094e+07</td>\n",
       "      <td>3.129094e+07</td>\n",
       "      <td>3.129094e+07</td>\n",
       "      <td>3.129094e+07</td>\n",
       "      <td>3.129094e+07</td>\n",
       "      <td>3.129094e+07</td>\n",
       "      <td>3.129094e+07</td>\n",
       "      <td>3.129094e+07</td>\n",
       "      <td>3.129094e+07</td>\n",
       "    </tr>\n",
       "    <tr>\n",
       "      <th>mean</th>\n",
       "      <td>2.013546e+03</td>\n",
       "      <td>4.066429e+01</td>\n",
       "      <td>1.774115e+00</td>\n",
       "      <td>1.792336e+02</td>\n",
       "      <td>2.941709e-01</td>\n",
       "      <td>1.064536e+00</td>\n",
       "      <td>1.101986e+01</td>\n",
       "      <td>9.552488e+00</td>\n",
       "      <td>9.565275e+02</td>\n",
       "    </tr>\n",
       "    <tr>\n",
       "      <th>std</th>\n",
       "      <td>2.870409e+00</td>\n",
       "      <td>2.353897e+01</td>\n",
       "      <td>1.831435e+00</td>\n",
       "      <td>1.873933e+02</td>\n",
       "      <td>8.125947e-01</td>\n",
       "      <td>2.023393e+00</td>\n",
       "      <td>2.079990e+01</td>\n",
       "      <td>1.964634e+01</td>\n",
       "      <td>1.966719e+03</td>\n",
       "    </tr>\n",
       "    <tr>\n",
       "      <th>min</th>\n",
       "      <td>2.009000e+03</td>\n",
       "      <td>0.000000e+00</td>\n",
       "      <td>1.000000e+00</td>\n",
       "      <td>1.000000e+02</td>\n",
       "      <td>0.000000e+00</td>\n",
       "      <td>0.000000e+00</td>\n",
       "      <td>0.000000e+00</td>\n",
       "      <td>0.000000e+00</td>\n",
       "      <td>0.000000e+00</td>\n",
       "    </tr>\n",
       "    <tr>\n",
       "      <th>25%</th>\n",
       "      <td>2.011000e+03</td>\n",
       "      <td>2.000000e+01</td>\n",
       "      <td>1.000000e+00</td>\n",
       "      <td>1.000000e+02</td>\n",
       "      <td>0.000000e+00</td>\n",
       "      <td>0.000000e+00</td>\n",
       "      <td>0.000000e+00</td>\n",
       "      <td>0.000000e+00</td>\n",
       "      <td>0.000000e+00</td>\n",
       "    </tr>\n",
       "    <tr>\n",
       "      <th>50%</th>\n",
       "      <td>2.014000e+03</td>\n",
       "      <td>4.100000e+01</td>\n",
       "      <td>1.000000e+00</td>\n",
       "      <td>1.000000e+02</td>\n",
       "      <td>0.000000e+00</td>\n",
       "      <td>0.000000e+00</td>\n",
       "      <td>0.000000e+00</td>\n",
       "      <td>0.000000e+00</td>\n",
       "      <td>0.000000e+00</td>\n",
       "    </tr>\n",
       "    <tr>\n",
       "      <th>75%</th>\n",
       "      <td>2.016000e+03</td>\n",
       "      <td>5.900000e+01</td>\n",
       "      <td>1.000000e+00</td>\n",
       "      <td>1.000000e+02</td>\n",
       "      <td>0.000000e+00</td>\n",
       "      <td>0.000000e+00</td>\n",
       "      <td>0.000000e+00</td>\n",
       "      <td>0.000000e+00</td>\n",
       "      <td>0.000000e+00</td>\n",
       "    </tr>\n",
       "    <tr>\n",
       "      <th>max</th>\n",
       "      <td>2.018000e+03</td>\n",
       "      <td>9.700000e+01</td>\n",
       "      <td>9.000000e+00</td>\n",
       "      <td>9.910000e+02</td>\n",
       "      <td>3.000000e+00</td>\n",
       "      <td>7.000000e+00</td>\n",
       "      <td>7.000000e+01</td>\n",
       "      <td>6.400000e+01</td>\n",
       "      <td>6.403000e+03</td>\n",
       "    </tr>\n",
       "  </tbody>\n",
       "</table>\n",
       "</div>"
      ],
      "text/plain": [
       "               YEAR           AGE          RACE         RACED       CITIZEN  \\\n",
       "count  3.129094e+07  3.129094e+07  3.129094e+07  3.129094e+07  3.129094e+07   \n",
       "mean   2.013546e+03  4.066429e+01  1.774115e+00  1.792336e+02  2.941709e-01   \n",
       "std    2.870409e+00  2.353897e+01  1.831435e+00  1.873933e+02  8.125947e-01   \n",
       "min    2.009000e+03  0.000000e+00  1.000000e+00  1.000000e+02  0.000000e+00   \n",
       "25%    2.011000e+03  2.000000e+01  1.000000e+00  1.000000e+02  0.000000e+00   \n",
       "50%    2.014000e+03  4.100000e+01  1.000000e+00  1.000000e+02  0.000000e+00   \n",
       "75%    2.016000e+03  5.900000e+01  1.000000e+00  1.000000e+02  0.000000e+00   \n",
       "max    2.018000e+03  9.700000e+01  9.000000e+00  9.910000e+02  3.000000e+00   \n",
       "\n",
       "           GRADEATT     GRADEATTD      DEGFIELD     DEGFIELDD  \n",
       "count  3.129094e+07  3.129094e+07  3.129094e+07  3.129094e+07  \n",
       "mean   1.064536e+00  1.101986e+01  9.552488e+00  9.565275e+02  \n",
       "std    2.023393e+00  2.079990e+01  1.964634e+01  1.966719e+03  \n",
       "min    0.000000e+00  0.000000e+00  0.000000e+00  0.000000e+00  \n",
       "25%    0.000000e+00  0.000000e+00  0.000000e+00  0.000000e+00  \n",
       "50%    0.000000e+00  0.000000e+00  0.000000e+00  0.000000e+00  \n",
       "75%    0.000000e+00  0.000000e+00  0.000000e+00  0.000000e+00  \n",
       "max    7.000000e+00  7.000000e+01  6.400000e+01  6.403000e+03  "
      ]
     },
     "execution_count": 16,
     "metadata": {},
     "output_type": "execute_result"
    }
   ],
   "source": [
    "df.describe()"
   ]
  },
  {
   "cell_type": "code",
   "execution_count": 3,
   "metadata": {},
   "outputs": [
    {
     "name": "stdout",
     "output_type": "stream",
     "text": [
      "<class 'pandas.core.frame.DataFrame'>\n",
      "RangeIndex: 31290943 entries, 0 to 31290942\n",
      "Data columns (total 11 columns):\n",
      " #   Column     Dtype\n",
      "---  ------     -----\n",
      " 0   YEAR       int64\n",
      " 1   SEX        int64\n",
      " 2   AGE        int64\n",
      " 3   RACE       int64\n",
      " 4   RACED      int64\n",
      " 5   CITIZEN    int64\n",
      " 6   GRADEATT   int64\n",
      " 7   GRADEATTD  int64\n",
      " 8   DEGFIELD   int64\n",
      " 9   DEGFIELDD  int64\n",
      " 10  OCC        int64\n",
      "dtypes: int64(11)\n",
      "memory usage: 2.6 GB\n"
     ]
    }
   ],
   "source": [
    "df.info()"
   ]
  },
  {
   "cell_type": "code",
   "execution_count": 4,
   "metadata": {},
   "outputs": [
    {
     "data": {
      "text/plain": [
       "YEAR         0\n",
       "SEX          0\n",
       "AGE          0\n",
       "RACE         0\n",
       "RACED        0\n",
       "CITIZEN      0\n",
       "GRADEATT     0\n",
       "GRADEATTD    0\n",
       "DEGFIELD     0\n",
       "DEGFIELDD    0\n",
       "OCC          0\n",
       "dtype: int64"
      ]
     },
     "execution_count": 4,
     "metadata": {},
     "output_type": "execute_result"
    }
   ],
   "source": [
    "df.isnull().sum(axis = 0)"
   ]
  },
  {
   "cell_type": "code",
   "execution_count": 5,
   "metadata": {},
   "outputs": [],
   "source": [
    "import copy\n",
    "df_origin = copy.deepcopy(df)"
   ]
  },
  {
   "cell_type": "code",
   "execution_count": 6,
   "metadata": {},
   "outputs": [],
   "source": [
    "import copy\n",
    "df = copy.deepcopy(df_origin)"
   ]
  },
  {
   "cell_type": "markdown",
   "metadata": {},
   "source": [
    "## Data Preprocessing"
   ]
  },
  {
   "cell_type": "code",
   "execution_count": 7,
   "metadata": {},
   "outputs": [
    {
     "data": {
      "text/plain": [
       "Counter({1: 15270492, 2: 16020451})"
      ]
     },
     "execution_count": 7,
     "metadata": {},
     "output_type": "execute_result"
    }
   ],
   "source": [
    "from collections import Counter\n",
    "Counter(df['SEX'])"
   ]
  },
  {
   "cell_type": "code",
   "execution_count": 8,
   "metadata": {},
   "outputs": [],
   "source": [
    "# code interpretation\n",
    "df['SEX'] = df['SEX'].apply(lambda x: 'Male' if str(x) == '1' else 'Femal')"
   ]
  },
  {
   "cell_type": "markdown",
   "metadata": {},
   "source": [
    "### Revise range"
   ]
  },
  {
   "cell_type": "code",
   "execution_count": 12,
   "metadata": {},
   "outputs": [
    {
     "data": {
      "text/plain": [
       "0           NON-STEM\n",
       "1           NON-STEM\n",
       "2           NON-STEM\n",
       "3           NON-STEM\n",
       "4           NON-STEM\n",
       "              ...   \n",
       "31290938    NON-STEM\n",
       "31290939    NON-STEM\n",
       "31290940    NON-STEM\n",
       "31290941    NON-STEM\n",
       "31290942    NON-STEM\n",
       "Name: OCC, Length: 31290943, dtype: object"
      ]
     },
     "execution_count": 12,
     "metadata": {},
     "output_type": "execute_result"
    }
   ],
   "source": [
    "#\n",
    "df['OCC'] = df['OCC'].apply(lambda x: 'STEM'if x in range(1000, 2000) else 'NON-STEM')\n",
    "df['OCC']"
   ]
  },
  {
   "cell_type": "code",
   "execution_count": 13,
   "metadata": {},
   "outputs": [
    {
     "data": {
      "text/plain": [
       "Counter({'NON-STEM': 30364353, 'STEM': 926590})"
      ]
     },
     "execution_count": 13,
     "metadata": {},
     "output_type": "execute_result"
    }
   ],
   "source": [
    "Counter(df['OCC'])"
   ]
  },
  {
   "cell_type": "markdown",
   "metadata": {},
   "source": [
    "## Data Visualization"
   ]
  },
  {
   "cell_type": "code",
   "execution_count": 9,
   "metadata": {},
   "outputs": [
    {
     "data": {
      "image/png": "[encoded data removed]",
      "text/plain": [
       "<Figure size 432x288 with 1 Axes>"
      ]
     },
     "metadata": {
      "needs_background": "light"
     },
     "output_type": "display_data"
    }
   ],
   "source": [
    "import numpy as np\n",
    "import matplotlib.pyplot as plt\n",
    "import matplotlib.pylab as pl\n",
    "import matplotlib.ticker as tick\n",
    "\n",
    "# Auto adjust unit of y Axis\n",
    "def y_fmt(tick_val, pos):\n",
    "    if tick_val >= 1000000:\n",
    "        val = int(tick_val)/1000000\n",
    "        return '{:.1f} M'.format(val)\n",
    "    elif tick_val > 1000:\n",
    "        val = int(tick_val) / 1000\n",
    "        return '{:.1f} K'.format(val)\n",
    "    else:\n",
    "        return tick_val\n",
    "\n",
    "# plt.figure(figsize=[60,30])\n",
    "ax = sns.countplot(x='YEAR', data=df, palette=\"Blues_d\")\n",
    "ax = pl.gca()\n",
    "ax.yaxis.set_major_formatter(tick.FuncFormatter(y_fmt))\n",
    "ax.set_ylabel('Population')\n",
    "ax.set_xlabel(\"Year\")\n",
    "ax.axes.set_title(\"Population of Sample for Each Year\")\n",
    "# ax.tick_params(labelsize=40)\n",
    "# plt.xticks(rotation=45)\n",
    "plt.show()"
   ]
  },
  {
   "cell_type": "code",
   "execution_count": 10,
   "metadata": {},
   "outputs": [
    {
     "data": {
      "image/png": "[encoded data removed]",
      "text/plain": [
       "<Figure size 432x288 with 1 Axes>"
      ]
     },
     "metadata": {
      "needs_background": "light"
     },
     "output_type": "display_data"
    }
   ],
   "source": [
    "import numpy as np\n",
    "import matplotlib.pyplot as plt\n",
    "import matplotlib.pylab as pl\n",
    "import matplotlib.ticker as tick\n",
    "\n",
    "# Auto adjust unit of y Axis\n",
    "def y_fmt(tick_val, pos):\n",
    "    if tick_val >= 1000000:\n",
    "        val = int(tick_val)/1000000\n",
    "        return '{:.1f} M'.format(val)\n",
    "    elif tick_val > 1000:\n",
    "        val = int(tick_val) / 1000\n",
    "        return '{:.1f} K'.format(val)\n",
    "    else:\n",
    "        return tick_val\n",
    "\n",
    "# plt.figure(figsize=[60,30])\n",
    "ax = sns.countplot(x='YEAR', hue='SEX', data=df)\n",
    "ax = pl.gca()\n",
    "ax.yaxis.set_major_formatter(tick.FuncFormatter(y_fmt))\n",
    "ax.set_ylabel('Population')\n",
    "ax.set_xlabel('Year')\n",
    "ax.axes.set_title('SEX Comparison for Each Year')\n",
    "# ax.tick_params(labelsize=40)\n",
    "# plt.xticks(rotation=45)\n",
    "plt.show()"
   ]
  },
  {
   "cell_type": "code",
   "execution_count": 42,
   "metadata": {},
   "outputs": [
    {
     "data": {
      "text/plain": [
       "{'NON-STEM': {2009: 2943529,\n",
       "  2010: 2976933,\n",
       "  2011: 3030016,\n",
       "  2012: 3028564,\n",
       "  2013: 3041881,\n",
       "  2014: 3040702,\n",
       "  2015: 3052144,\n",
       "  2016: 3057794,\n",
       "  2017: 3086850,\n",
       "  2018: 3105940},\n",
       " 'STEM': {2009: 87199,\n",
       "  2010: 84759,\n",
       "  2011: 82001,\n",
       "  2012: 84466,\n",
       "  2013: 90914,\n",
       "  2014: 91908,\n",
       "  2015: 94861,\n",
       "  2016: 98693,\n",
       "  2017: 103190,\n",
       "  2018: 108599}}"
      ]
     },
     "execution_count": 42,
     "metadata": {},
     "output_type": "execute_result"
    }
   ],
   "source": [
    "occupations = dict(Counter(df['OCC']))\n",
    "occupations_years = dict()\n",
    "for o in occupations.keys():\n",
    "    years = dict(zip(Counter(df['YEAR']).keys(), [0]*len(Counter(df['YEAR']).keys())))\n",
    "    years_new = dict(Counter(df[df['OCC']==o]['YEAR']))\n",
    "    for y in years:\n",
    "        years[y] += years_new[y]\n",
    "    occupations_years[o] = years\n",
    "occupations_years\n",
    "    "
   ]
  },
  {
   "cell_type": "code",
   "execution_count": 45,
   "metadata": {},
   "outputs": [
    {
     "data": {
      "image/png": "[encoded data removed]",
      "text/plain": [
       "<Figure size 432x288 with 1 Axes>"
      ]
     },
     "metadata": {},
     "output_type": "display_data"
    }
   ],
   "source": [
    "import numpy as np\n",
    "import matplotlib.pyplot as plt\n",
    "import matplotlib.pylab as pl\n",
    "import matplotlib.ticker as tick\n",
    "\n",
    "# Auto adjust unit of y Axis\n",
    "def y_fmt(tick_val, pos):\n",
    "    if tick_val >= 1000000:\n",
    "        val = int(tick_val)/1000000\n",
    "        return '{:.1f} M'.format(val)\n",
    "    elif tick_val >= 1000:\n",
    "        val = int(tick_val) / 1000\n",
    "        return '{:.1f} K'.format(val)\n",
    "    else:\n",
    "        return tick_val\n",
    "\n",
    "# plt.figure(figsize=[60,30])\n",
    "ax = sns.lineplot(x=list(occupations_years['STEM'].keys()), y=list(occupations_years['STEM'].values()))\n",
    "ax = pl.gca()\n",
    "ax.yaxis.set_major_formatter(tick.FuncFormatter(y_fmt))\n",
    "ax.set_ylabel('Population')\n",
    "ax.set_xlabel('Year')\n",
    "ax.axes.set_title('Occupation Comparison for Each Year')\n",
    "# ax.tick_params(labelsize=40)\n",
    "# plt.xticks(rotation=45)\n",
    "plt.show()"
   ]
  },
  {
   "cell_type": "code",
   "execution_count": 11,
   "metadata": {},
   "outputs": [
    {
     "data": {
      "image/png": "[encoded data removed]",
      "text/plain": [
       "<Figure size 4320x2160 with 1 Axes>"
      ]
     },
     "metadata": {
      "needs_background": "light"
     },
     "output_type": "display_data"
    }
   ],
   "source": [
    "import numpy as np\n",
    "import matplotlib.pyplot as plt\n",
    "import matplotlib.pylab as pl\n",
    "import matplotlib.ticker as tick\n",
    "\n",
    "# Auto adjust unit of y Axis\n",
    "def y_fmt(tick_val, pos):\n",
    "    if tick_val >= 1000000:\n",
    "        val = int(tick_val)/1000000\n",
    "        return '{:.1f} M'.format(val)\n",
    "    elif tick_val > 1000:\n",
    "        val = int(tick_val) / 1000\n",
    "        return '{:.1f} K'.format(val)\n",
    "    else:\n",
    "        return tick_val\n",
    "\n",
    "plt.figure(figsize=[60,30])\n",
    "ax = sns.countplot(x='DEGFIELD', hue='SEX', data=df)\n",
    "ax = pl.gca()\n",
    "ax.yaxis.set_major_formatter(tick.FuncFormatter(y_fmt))\n",
    "ax.set_ylabel('DEGFIELD')\n",
    "ax.set_xlabel('Year')\n",
    "ax.axes.set_title('SEX Comparison for Each Year')\n",
    "# ax.tick_params(labelsize=40)\n",
    "# plt.xticks(rotation=45)\n",
    "plt.show()"
   ]
  },
  {
   "cell_type": "code",
   "execution_count": null,
   "metadata": {},
   "outputs": [],
   "source": []
  }
 ],
 "metadata": {
  "kernelspec": {
   "display_name": "Python 3",
   "language": "python",
   "name": "python3"
  },
  "language_info": {
   "codemirror_mode": {
    "name": "ipython",
    "version": 3
   },
   "file_extension": ".py",
   "mimetype": "text/x-python",
   "name": "python",
   "nbconvert_exporter": "python",
   "pygments_lexer": "ipython3",
   "version": "3.7.6"
  }
 },
 "nbformat": 4,
 "nbformat_minor": 4
}
